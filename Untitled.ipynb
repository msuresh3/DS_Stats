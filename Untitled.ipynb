{
 "cells": [
  {
   "cell_type": "markdown",
   "id": "1393d42b-f238-465e-860e-29bd00887efd",
   "metadata": {},
   "source": [
    "# Sampling Techniques"
   ]
  },
  {
   "cell_type": "markdown",
   "id": "1996444a-aa38-4e4c-b3b0-e207ee471246",
   "metadata": {},
   "source": [
    "Population(N) -> consists of lot of samples(n)\n",
    "### 1. Simple Random Sampling\n",
    "> Pick the sample randomly Example - Exit poll\n",
    "### 2. Stratified Sampling\n",
    "> Where the population(N) splits into Non overlapping Example - Profession based, Age group based, Gender based\n",
    "\n",
    "> Dividing group based on specific required parameter to sample - Exapmle Drug Testing sample\n",
    "### 3. Systematic Sampling\n",
    "> (N) -> nth Individual sample - Some Systematic method to be used in the sampling method\n",
    "### 4. Convenience Sampling\n",
    "> Survey related to Specific topics\n"
   ]
  },
  {
   "cell_type": "markdown",
   "id": "cbda99c1-7fb3-45e7-a103-06491a574e6f",
   "metadata": {},
   "source": []
  }
 ],
 "metadata": {
  "kernelspec": {
   "display_name": "Python 3 (ipykernel)",
   "language": "python",
   "name": "python3"
  },
  "language_info": {
   "codemirror_mode": {
    "name": "ipython",
    "version": 3
   },
   "file_extension": ".py",
   "mimetype": "text/x-python",
   "name": "python",
   "nbconvert_exporter": "python",
   "pygments_lexer": "ipython3",
   "version": "3.12.8"
  }
 },
 "nbformat": 4,
 "nbformat_minor": 5
}
