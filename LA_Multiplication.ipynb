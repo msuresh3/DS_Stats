{
  "nbformat": 4,
  "nbformat_minor": 0,
  "metadata": {
    "colab": {
      "provenance": [],
      "authorship_tag": "ABX9TyMmMrniQ9kHpHzCKjE2wfxd",
      "include_colab_link": true
    },
    "kernelspec": {
      "name": "python3",
      "display_name": "Python 3"
    },
    "language_info": {
      "name": "python"
    }
  },
  "cells": [
    {
      "cell_type": "markdown",
      "metadata": {
        "id": "view-in-github",
        "colab_type": "text"
      },
      "source": [
        "<a href=\"https://colab.research.google.com/github/msuresh3/DS_Stats/blob/main/LA_Multiplication.ipynb\" target=\"_parent\"><img src=\"https://colab.research.google.com/assets/colab-badge.svg\" alt=\"Open In Colab\"/></a>"
      ]
    },
    {
      "cell_type": "markdown",
      "source": [
        "# **Linear Algebra**\n",
        "**Vector Multiplication**\n",
        "\n",
        "1. Scalar Product   \n",
        "2. Dot Product  \n",
        "3. Cross Product\n"
      ],
      "metadata": {
        "id": "yRIKS7p1I0eQ"
      }
    },
    {
      "cell_type": "code",
      "execution_count": 14,
      "metadata": {
        "id": "9-z79AvKIrkB"
      },
      "outputs": [],
      "source": [
        "import numpy as np\n",
        "import matplotlib.pyplot as plt\n",
        "#import math"
      ]
    },
    {
      "cell_type": "code",
      "source": [
        "arr1 = np.array([2,3])\n",
        "arr2 = np.array([4,5])"
      ],
      "metadata": {
        "id": "Lq1UFgelJ6Ec"
      },
      "execution_count": 19,
      "outputs": []
    },
    {
      "cell_type": "code",
      "source": [
        "# Scalar Product\n",
        "arr3 = 5 * arr1\n",
        "arr3"
      ],
      "metadata": {
        "colab": {
          "base_uri": "https://localhost:8080/"
        },
        "id": "jZBeQ0w_L-3U",
        "outputId": "20fdb7c3-6dbe-499e-fe9a-7a356b40db57"
      },
      "execution_count": 16,
      "outputs": [
        {
          "output_type": "execute_result",
          "data": {
            "text/plain": [
              "array([10, 15])"
            ]
          },
          "metadata": {},
          "execution_count": 16
        }
      ]
    },
    {
      "cell_type": "code",
      "source": [
        "# Dot Product\n",
        "arr3 = arr1@arr2 # ((2*4) + (3*5)) => 23\n",
        "arr3 = np.dot(arr1,arr2) # ((2*4) + (3*5)) => 23\n",
        "arr3"
      ],
      "metadata": {
        "colab": {
          "base_uri": "https://localhost:8080/"
        },
        "id": "gxC01CevMGwQ",
        "outputId": "f7a8dcfe-8b2c-42ad-a489-aa4b98477d1d"
      },
      "execution_count": 22,
      "outputs": [
        {
          "output_type": "execute_result",
          "data": {
            "text/plain": [
              "23"
            ]
          },
          "metadata": {},
          "execution_count": 22
        }
      ]
    },
    {
      "cell_type": "code",
      "source": [
        "np.dot([2j, 3j], [2j, 3j])"
      ],
      "metadata": {
        "colab": {
          "base_uri": "https://localhost:8080/"
        },
        "id": "XNirZIY7NMDU",
        "outputId": "faa4e2f8-1abe-4497-f829-3fb73bb6988c"
      },
      "execution_count": 23,
      "outputs": [
        {
          "output_type": "execute_result",
          "data": {
            "text/plain": [
              "(-13+0j)"
            ]
          },
          "metadata": {},
          "execution_count": 23
        }
      ]
    },
    {
      "cell_type": "code",
      "source": [
        "a = [[1, 0], [0, 1]]\n",
        "b = [[4, 1], [2, 2]]\n",
        "np.dot(a, b)"
      ],
      "metadata": {
        "colab": {
          "base_uri": "https://localhost:8080/"
        },
        "id": "bHDagwsUNemg",
        "outputId": "3f9c9c74-c3cb-46b0-8a52-94103ae67bb6"
      },
      "execution_count": 24,
      "outputs": [
        {
          "output_type": "execute_result",
          "data": {
            "text/plain": [
              "array([[4, 1],\n",
              "       [2, 2]])"
            ]
          },
          "metadata": {},
          "execution_count": 24
        }
      ]
    },
    {
      "cell_type": "code",
      "source": [
        "# Cross Product\n",
        "arr3 = np.cross(arr1,arr2) # ((2*4) + (3*5)) => 23\n",
        "arr3"
      ],
      "metadata": {
        "colab": {
          "base_uri": "https://localhost:8080/"
        },
        "id": "SsDqFnMbMlYk",
        "outputId": "44fd1e1a-ed30-4e00-a4ab-9c98d3420078"
      },
      "execution_count": 20,
      "outputs": [
        {
          "output_type": "execute_result",
          "data": {
            "text/plain": [
              "array(-2)"
            ]
          },
          "metadata": {},
          "execution_count": 20
        }
      ]
    }
  ]
}