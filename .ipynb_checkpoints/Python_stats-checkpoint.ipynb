{
 "cells": [
  {
   "cell_type": "markdown",
   "id": "3bd387df-a9e0-40b7-ba4a-7df69e830460",
   "metadata": {},
   "source": [
    "# Exploring statistics in python\n",
    "## Seaborn\n",
    "    - Seaborn is a library for making statistical graphics in Python. It builds on top of matplotlib and integrates closely with pandas data structures.\n",
    "    Seaborn helps you explore and understand your data. \n",
    "    Its plotting functions operate on dataframes and arrays containing whole datasets and internally perform the necessary semantic mapping and  statistical aggregation to produce informative plots. \n",
    "    Its dataset-oriented, declarative API lets you focus on what the different elements of your plots mean, rather than on the details of how to draw them\n",
    "\n",
    "## Statistics\n",
    "    - This module provides functions for calculating statistics of data, including averages, variance, and standard deviation.\n",
    "\n",
    "\n"
   ]
  },
  {
   "cell_type": "markdown",
   "id": "b9248203-e7d3-4a4b-a521-d4aeafd5b716",
   "metadata": {},
   "source": [
    "### Importing required libraries"
   ]
  },
  {
   "cell_type": "code",
   "execution_count": 1,
   "id": "13b88845-36d4-4cf4-b4ab-f7d17cacdb03",
   "metadata": {},
   "outputs": [],
   "source": [
    "import numpy as np\n",
    "import pandas as pd\n",
    "import matplotlib as plt\n",
    "%matplotlib inline\n",
    "import statistics\n",
    "import seaborn as sns"
   ]
  },
  {
   "cell_type": "markdown",
   "id": "8e081609-c8bb-4945-b9f9-638d96525363",
   "metadata": {},
   "source": [
    "### Loading data set to pandas dataframe from local csv files"
   ]
  },
  {
   "cell_type": "code",
   "execution_count": 2,
   "id": "a5aba07b-331b-4087-ad68-ffbd96a46006",
   "metadata": {},
   "outputs": [
    {
     "data": {
      "text/html": [
       "<div>\n",
       "<style scoped>\n",
       "    .dataframe tbody tr th:only-of-type {\n",
       "        vertical-align: middle;\n",
       "    }\n",
       "\n",
       "    .dataframe tbody tr th {\n",
       "        vertical-align: top;\n",
       "    }\n",
       "\n",
       "    .dataframe thead th {\n",
       "        text-align: right;\n",
       "    }\n",
       "</style>\n",
       "<table border=\"1\" class=\"dataframe\">\n",
       "  <thead>\n",
       "    <tr style=\"text-align: right;\">\n",
       "      <th></th>\n",
       "      <th>Date</th>\n",
       "      <th>Series</th>\n",
       "      <th>Open</th>\n",
       "      <th>High</th>\n",
       "      <th>Low</th>\n",
       "      <th>Prev Close</th>\n",
       "      <th>ltp</th>\n",
       "      <th>Close</th>\n",
       "      <th>VWAP</th>\n",
       "      <th>52WH</th>\n",
       "      <th>52WL</th>\n",
       "      <th>Volume</th>\n",
       "      <th>Value</th>\n",
       "      <th>No.of Traders</th>\n",
       "    </tr>\n",
       "  </thead>\n",
       "  <tbody>\n",
       "    <tr>\n",
       "      <th>0</th>\n",
       "      <td>31-Dec-24</td>\n",
       "      <td>EQ</td>\n",
       "      <td>1,062.00</td>\n",
       "      <td>1,070.45</td>\n",
       "      <td>1,058.50</td>\n",
       "      <td>1,069.95</td>\n",
       "      <td>1,068.00</td>\n",
       "      <td>1,064.70</td>\n",
       "      <td>1,064.48</td>\n",
       "      <td>1,339.65</td>\n",
       "      <td>995.7</td>\n",
       "      <td>52,92,136</td>\n",
       "      <td>5,63,33,87,060.50</td>\n",
       "      <td>1,61,817</td>\n",
       "    </tr>\n",
       "    <tr>\n",
       "      <th>1</th>\n",
       "      <td>30-Dec-24</td>\n",
       "      <td>EQ</td>\n",
       "      <td>1,074.10</td>\n",
       "      <td>1,096.50</td>\n",
       "      <td>1,063.95</td>\n",
       "      <td>1,077.45</td>\n",
       "      <td>1,070.00</td>\n",
       "      <td>1,069.95</td>\n",
       "      <td>1,075.16</td>\n",
       "      <td>1,339.65</td>\n",
       "      <td>995.7</td>\n",
       "      <td>94,52,155</td>\n",
       "      <td>10,16,25,55,228.40</td>\n",
       "      <td>1,72,968</td>\n",
       "    </tr>\n",
       "    <tr>\n",
       "      <th>2</th>\n",
       "      <td>27-Dec-24</td>\n",
       "      <td>EQ</td>\n",
       "      <td>1,078.10</td>\n",
       "      <td>1,086.25</td>\n",
       "      <td>1,076.00</td>\n",
       "      <td>1,076.70</td>\n",
       "      <td>1,078.20</td>\n",
       "      <td>1,077.45</td>\n",
       "      <td>1,080.19</td>\n",
       "      <td>1,339.65</td>\n",
       "      <td>995.7</td>\n",
       "      <td>38,01,667</td>\n",
       "      <td>4,10,65,08,621.15</td>\n",
       "      <td>1,13,788</td>\n",
       "    </tr>\n",
       "    <tr>\n",
       "      <th>3</th>\n",
       "      <td>26-Dec-24</td>\n",
       "      <td>EQ</td>\n",
       "      <td>1,083.00</td>\n",
       "      <td>1,092.60</td>\n",
       "      <td>1,072.75</td>\n",
       "      <td>1,078.90</td>\n",
       "      <td>1,077.25</td>\n",
       "      <td>1,076.70</td>\n",
       "      <td>1,078.34</td>\n",
       "      <td>1,339.65</td>\n",
       "      <td>995.7</td>\n",
       "      <td>47,75,460</td>\n",
       "      <td>5,14,95,74,877.30</td>\n",
       "      <td>1,19,071</td>\n",
       "    </tr>\n",
       "    <tr>\n",
       "      <th>4</th>\n",
       "      <td>24-Dec-24</td>\n",
       "      <td>EQ</td>\n",
       "      <td>1,077.30</td>\n",
       "      <td>1,084.75</td>\n",
       "      <td>1,076.00</td>\n",
       "      <td>1,079.15</td>\n",
       "      <td>1,081.90</td>\n",
       "      <td>1,078.90</td>\n",
       "      <td>1,080.42</td>\n",
       "      <td>1,339.65</td>\n",
       "      <td>995.7</td>\n",
       "      <td>43,43,694</td>\n",
       "      <td>4,69,30,16,607.75</td>\n",
       "      <td>1,28,592</td>\n",
       "    </tr>\n",
       "  </tbody>\n",
       "</table>\n",
       "</div>"
      ],
      "text/plain": [
       "        Date Series      Open      High       Low Prev Close       ltp  \\\n",
       "0  31-Dec-24     EQ  1,062.00  1,070.45  1,058.50   1,069.95  1,068.00   \n",
       "1  30-Dec-24     EQ  1,074.10  1,096.50  1,063.95   1,077.45  1,070.00   \n",
       "2  27-Dec-24     EQ  1,078.10  1,086.25  1,076.00   1,076.70  1,078.20   \n",
       "3  26-Dec-24     EQ  1,083.00  1,092.60  1,072.75   1,078.90  1,077.25   \n",
       "4  24-Dec-24     EQ  1,077.30  1,084.75  1,076.00   1,079.15  1,081.90   \n",
       "\n",
       "      Close      VWAP      52WH   52WL     Volume               Value  \\\n",
       "0  1,064.70  1,064.48  1,339.65  995.7  52,92,136   5,63,33,87,060.50   \n",
       "1  1,069.95  1,075.16  1,339.65  995.7  94,52,155  10,16,25,55,228.40   \n",
       "2  1,077.45  1,080.19  1,339.65  995.7  38,01,667   4,10,65,08,621.15   \n",
       "3  1,076.70  1,078.34  1,339.65  995.7  47,75,460   5,14,95,74,877.30   \n",
       "4  1,078.90  1,080.42  1,339.65  995.7  43,43,694   4,69,30,16,607.75   \n",
       "\n",
       "  No.of Traders  \n",
       "0      1,61,817  \n",
       "1      1,72,968  \n",
       "2      1,13,788  \n",
       "3      1,19,071  \n",
       "4      1,28,592  "
      ]
     },
     "execution_count": 2,
     "metadata": {},
     "output_type": "execute_result"
    }
   ],
   "source": [
    "#df = sns.load_dataset('tips')\n",
    "df = pd.read_csv('AXISBANK.csv')\n",
    "df.head()"
   ]
  },
  {
   "cell_type": "code",
   "execution_count": 3,
   "id": "b7b177ed-8780-4c91-ac55-06f51c19adfd",
   "metadata": {},
   "outputs": [
    {
     "name": "stdout",
     "output_type": "stream",
     "text": [
      "<class 'pandas.core.frame.DataFrame'>\n",
      "RangeIndex: 249 entries, 0 to 248\n",
      "Data columns (total 14 columns):\n",
      " #   Column         Non-Null Count  Dtype  \n",
      "---  ------         --------------  -----  \n",
      " 0   Date           249 non-null    object \n",
      " 1   Series         249 non-null    object \n",
      " 2   Open           249 non-null    object \n",
      " 3   High           249 non-null    object \n",
      " 4   Low            249 non-null    object \n",
      " 5   Prev Close     249 non-null    object \n",
      " 6   ltp            249 non-null    object \n",
      " 7   Close          249 non-null    object \n",
      " 8   VWAP           249 non-null    object \n",
      " 9   52WH           249 non-null    object \n",
      " 10  52WL           249 non-null    float64\n",
      " 11  Volume         249 non-null    object \n",
      " 12  Value          249 non-null    object \n",
      " 13  No.of Traders  249 non-null    object \n",
      "dtypes: float64(1), object(13)\n",
      "memory usage: 27.4+ KB\n"
     ]
    }
   ],
   "source": [
    "df.info()"
   ]
  },
  {
   "cell_type": "code",
   "execution_count": 4,
   "id": "055c7a87-9d24-4218-bab2-131a41145f53",
   "metadata": {},
   "outputs": [
    {
     "data": {
      "text/plain": [
       "1147.08"
      ]
     },
     "execution_count": 4,
     "metadata": {},
     "output_type": "execute_result"
    }
   ],
   "source": [
    "df['Close'] = df['Close'].apply(lambda x: int(x.replace(',', '').split('.')[0]))\n",
    "df['Open'] = df['Open'].apply(lambda x: int(x.replace(',', '').split('.')[0]))\n",
    "df['High'] = df['High'].apply(lambda x: int(x.replace(',', '').split('.')[0]))\n",
    "df['Low'] = df['Low'].apply(lambda x: int(x.replace(',', '').split('.')[0]))\n",
    "df['Volume'] = df['Volume'].apply(lambda x: int(x.replace(',', '').split('.')[0]))\n",
    "#df['Close']\n",
    "Axis_mean = float(\"{:.2f}\".format(np.mean(df['Close'])))\n",
    "Axis_mean"
   ]
  },
  {
   "cell_type": "code",
   "execution_count": 5,
   "id": "195c4141-002e-47f8-a548-5e035ae1ade0",
   "metadata": {},
   "outputs": [
    {
     "data": {
      "text/plain": [
       "1147.0"
      ]
     },
     "execution_count": 5,
     "metadata": {},
     "output_type": "execute_result"
    }
   ],
   "source": [
    "Axis_median = float(\"{:.2f}\".format(np.median(df['Close'])))\n",
    "Axis_median"
   ]
  },
  {
   "cell_type": "code",
   "execution_count": 6,
   "id": "a764b9aa-be55-41ce-91de-62f864ee4fcf",
   "metadata": {},
   "outputs": [
    {
     "data": {
      "text/plain": [
       "1170"
      ]
     },
     "execution_count": 6,
     "metadata": {},
     "output_type": "execute_result"
    }
   ],
   "source": [
    "Axis_mode = statistics.mode(df['Close'])\n",
    "Axis_mode"
   ]
  },
  {
   "cell_type": "code",
   "execution_count": 7,
   "id": "8e9ccaa7-61e8-4006-953d-6c345ab902c0",
   "metadata": {},
   "outputs": [
    {
     "data": {
      "text/plain": [
       "<Axes: xlabel='Close'>"
      ]
     },
     "execution_count": 7,
     "metadata": {},
     "output_type": "execute_result"
    },
    {
     "data": {
      "image/png": "[encoded data removed]",
      "text/plain": [
       "<Figure size 640x480 with 1 Axes>"
      ]
     },
     "metadata": {},
     "output_type": "display_data"
    }
   ],
   "source": [
    "# use to set style of background of plot\n",
    "sns.set(style=\"whitegrid\")\n",
    "sns.boxplot(x=df['Close'])"
   ]
  },
  {
   "cell_type": "code",
   "execution_count": 8,
   "id": "18c9ee66-b3d4-42b8-a408-44723b30c563",
   "metadata": {},
   "outputs": [
    {
     "data": {
      "text/plain": [
       "<Axes: xlabel='Close', ylabel='Count'>"
      ]
     },
     "execution_count": 8,
     "metadata": {},
     "output_type": "execute_result"
    },
    {
     "data": {
      "image/png": "[encoded data removed]",
      "text/plain": [
       "<Figure size 640x480 with 1 Axes>"
      ]
     },
     "metadata": {},
     "output_type": "display_data"
    }
   ],
   "source": [
    "# Plot a simple histogram and kde\n",
    "sns.histplot(df['Close'], kde=True, color=\"m\")"
   ]
  },
  {
   "cell_type": "code",
   "execution_count": 9,
   "id": "1ab1b26b-bd5c-4ca0-aa6c-1c3434a453f7",
   "metadata": {},
   "outputs": [
    {
     "data": {
      "text/plain": [
       "array([1096., 1177.])"
      ]
     },
     "execution_count": 9,
     "metadata": {},
     "output_type": "execute_result"
    }
   ],
   "source": [
    "np.percentile(df['Close'],[25,75,99])"
   ]
  },
  {
   "cell_type": "code",
   "execution_count": null,
   "id": "0a43057b-5bf3-4f8b-8e87-79272179cb43",
   "metadata": {},
   "outputs": [],
   "source": []
  }
 ],
 "metadata": {
  "kernelspec": {
   "display_name": "Python 3 (ipykernel)",
   "language": "python",
   "name": "python3"
  },
  "language_info": {
   "codemirror_mode": {
    "name": "ipython",
    "version": 3
   },
   "file_extension": ".py",
   "mimetype": "text/x-python",
   "name": "python",
   "nbconvert_exporter": "python",
   "pygments_lexer": "ipython3",
   "version": "3.12.8"
  }
 },
 "nbformat": 4,
 "nbformat_minor": 5
}
