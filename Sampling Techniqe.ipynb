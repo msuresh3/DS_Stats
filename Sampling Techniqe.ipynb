{
 "cells": [
  {
   "cell_type": "markdown",
   "id": "1996444a-aa38-4e4c-b3b0-e207ee471246",
   "metadata": {},
   "source": [
    "# Sampling Techniques\n",
    "Population(N) -> consists of lot of samples(n)\n",
    "### 1. Simple Random Sampling\n",
    "- Pick the sample randomly. Example - Exit poll\n",
    "### 2. Stratified Sampling\n",
    "- Where the population(N) splits into Non overlapping. Example - Based on Profession/Age/Gender\n",
    "- Dividing group based on specific required parameter to sample - Exapmle Drug Testing sample\n",
    "### 3. Systematic Sampling\n",
    "-  (N) -> nth Individual sample - Some Systematic method to be used in this sampling method\n",
    "### 4. Convenience Sampling\n",
    "- Survey related to Specific topics\n",
    "\n",
    "# Types of Variable\n",
    "Variable which stores a value required for data character representation like Height/Weight/Age/Gender/Profession\n",
    "### 1. Quantitative \n",
    "- Can be measure numerically and able to do Arithmetic operation to draw a conclusion, Exapmle - Age/Height/Weight\n",
    "    - ## Discrete Variable\n",
    "          - Whole Number/Bank Account\n",
    "    - ## Continous Variable\n",
    "          - Height/Weight\n",
    "### 2. Qualitative or Categorical\n",
    "- To be measured categorically through some characteristics or specific parameter, Example - Gender/Profession\n",
    "- "
   ]
  },
  {
   "cell_type": "markdown",
   "id": "cbda99c1-7fb3-45e7-a103-06491a574e6f",
   "metadata": {},
   "source": []
  },
  {
   "cell_type": "code",
   "execution_count": null,
   "id": "75e2d78b-72ec-4385-8746-58b820ec293d",
   "metadata": {},
   "outputs": [],
   "source": []
  }
 ],
 "metadata": {
  "kernelspec": {
   "display_name": "Python 3 (ipykernel)",
   "language": "python",
   "name": "python3"
  },
  "language_info": {
   "codemirror_mode": {
    "name": "ipython",
    "version": 3
   },
   "file_extension": ".py",
   "mimetype": "text/x-python",
   "name": "python",
   "nbconvert_exporter": "python",
   "pygments_lexer": "ipython3",
   "version": "3.12.8"
  }
 },
 "nbformat": 4,
 "nbformat_minor": 5
}
