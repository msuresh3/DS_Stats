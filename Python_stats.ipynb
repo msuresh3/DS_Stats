{
  "cells": [
    {
      "cell_type": "markdown",
      "metadata": {
        "id": "view-in-github",
        "colab_type": "text"
      },
      "source": [
        "<a href=\"https://colab.research.google.com/github/msuresh3/DS_Stats/blob/main/Python_stats.ipynb\" target=\"_parent\"><img src=\"https://colab.research.google.com/assets/colab-badge.svg\" alt=\"Open In Colab\"/></a>"
      ]
    },
    {
      "cell_type": "markdown",
      "id": "3bd387df-a9e0-40b7-ba4a-7df69e830460",
      "metadata": {
        "id": "3bd387df-a9e0-40b7-ba4a-7df69e830460"
      },
      "source": [
        "# Exploring statistics in python\n",
        "## Seaborn\n",
        "    - Seaborn is a library for making statistical graphics in Python. It builds on top of matplotlib and integrates closely with pandas data structures.\n",
        "    Seaborn helps you explore and understand your data.\n",
        "    Its plotting functions operate on dataframes and arrays containing whole datasets and internally perform the necessary semantic mapping and  statistical aggregation to produce informative plots.\n",
        "    Its dataset-oriented, declarative API lets you focus on what the different elements of your plots mean, rather than on the details of how to draw them\n",
        "\n",
        "## Statistics\n",
        "    - This module provides functions for calculating statistics of data, including averages, variance, and standard deviation.\n",
        "\n",
        "\n"
      ]
    },
    {
      "cell_type": "markdown",
      "id": "b9248203-e7d3-4a4b-a521-d4aeafd5b716",
      "metadata": {
        "id": "b9248203-e7d3-4a4b-a521-d4aeafd5b716"
      },
      "source": [
        "### Importing required libraries"
      ]
    },
    {
      "cell_type": "code",
      "execution_count": 1,
      "id": "13b88845-36d4-4cf4-b4ab-f7d17cacdb03",
      "metadata": {
        "id": "13b88845-36d4-4cf4-b4ab-f7d17cacdb03"
      },
      "outputs": [],
      "source": [
        "import numpy as np\n",
        "import pandas as pd\n",
        "import matplotlib as plt\n",
        "%matplotlib inline\n",
        "import statistics\n",
        "import seaborn as sns"
      ]
    },
    {
      "cell_type": "markdown",
      "id": "8e081609-c8bb-4945-b9f9-638d96525363",
      "metadata": {
        "id": "8e081609-c8bb-4945-b9f9-638d96525363"
      },
      "source": [
        "### Loading data set to pandas dataframe from local csv files"
      ]
    },
    {
      "cell_type": "code",
      "execution_count": 3,
      "id": "a5aba07b-331b-4087-ad68-ffbd96a46006",
      "metadata": {
        "colab": {
          "base_uri": "https://localhost:8080/",
          "height": 206
        },
        "id": "a5aba07b-331b-4087-ad68-ffbd96a46006",
        "outputId": "dc8bb996-0690-442a-fcfe-d64fd82fc697"
      },
      "outputs": [
        {
          "output_type": "execute_result",
          "data": {
            "text/plain": [
              "        Date Series      Open      High       Low Prev Close       ltp  \\\n",
              "0  31-Dec-24     EQ  1,062.00  1,070.45  1,058.50   1,069.95  1,068.00   \n",
              "1  30-Dec-24     EQ  1,074.10  1,096.50  1,063.95   1,077.45  1,070.00   \n",
              "2  27-Dec-24     EQ  1,078.10  1,086.25  1,076.00   1,076.70  1,078.20   \n",
              "3  26-Dec-24     EQ  1,083.00  1,092.60  1,072.75   1,078.90  1,077.25   \n",
              "4  24-Dec-24     EQ  1,077.30  1,084.75  1,076.00   1,079.15  1,081.90   \n",
              "\n",
              "      Close      VWAP      52WH   52WL     Volume               Value  \\\n",
              "0  1,064.70  1,064.48  1,339.65  995.7  52,92,136   5,63,33,87,060.50   \n",
              "1  1,069.95  1,075.16  1,339.65  995.7  94,52,155  10,16,25,55,228.40   \n",
              "2  1,077.45  1,080.19  1,339.65  995.7  38,01,667   4,10,65,08,621.15   \n",
              "3  1,076.70  1,078.34  1,339.65  995.7  47,75,460   5,14,95,74,877.30   \n",
              "4  1,078.90  1,080.42  1,339.65  995.7  43,43,694   4,69,30,16,607.75   \n",
              "\n",
              "  No.of Traders  \n",
              "0      1,61,817  \n",
              "1      1,72,968  \n",
              "2      1,13,788  \n",
              "3      1,19,071  \n",
              "4      1,28,592  "
            ],
            "text/html": [
              "\n",
              "  <div id=\"df-829dd230-f204-4445-979d-4992791ef3fe\" class=\"colab-df-container\">\n",
              "    <div>\n",
              "<style scoped>\n",
              "    .dataframe tbody tr th:only-of-type {\n",
              "        vertical-align: middle;\n",
              "    }\n",
              "\n",
              "    .dataframe tbody tr th {\n",
              "        vertical-align: top;\n",
              "    }\n",
              "\n",
              "    .dataframe thead th {\n",
              "        text-align: right;\n",
              "    }\n",
              "</style>\n",
              "<table border=\"1\" class=\"dataframe\">\n",
              "  <thead>\n",
              "    <tr style=\"text-align: right;\">\n",
              "      <th></th>\n",
              "      <th>Date</th>\n",
              "      <th>Series</th>\n",
              "      <th>Open</th>\n",
              "      <th>High</th>\n",
              "      <th>Low</th>\n",
              "      <th>Prev Close</th>\n",
              "      <th>ltp</th>\n",
              "      <th>Close</th>\n",
              "      <th>VWAP</th>\n",
              "      <th>52WH</th>\n",
              "      <th>52WL</th>\n",
              "      <th>Volume</th>\n",
              "      <th>Value</th>\n",
              "      <th>No.of Traders</th>\n",
              "    </tr>\n",
              "  </thead>\n",
              "  <tbody>\n",
              "    <tr>\n",
              "      <th>0</th>\n",
              "      <td>31-Dec-24</td>\n",
              "      <td>EQ</td>\n",
              "      <td>1,062.00</td>\n",
              "      <td>1,070.45</td>\n",
              "      <td>1,058.50</td>\n",
              "      <td>1,069.95</td>\n",
              "      <td>1,068.00</td>\n",
              "      <td>1,064.70</td>\n",
              "      <td>1,064.48</td>\n",
              "      <td>1,339.65</td>\n",
              "      <td>995.7</td>\n",
              "      <td>52,92,136</td>\n",
              "      <td>5,63,33,87,060.50</td>\n",
              "      <td>1,61,817</td>\n",
              "    </tr>\n",
              "    <tr>\n",
              "      <th>1</th>\n",
              "      <td>30-Dec-24</td>\n",
              "      <td>EQ</td>\n",
              "      <td>1,074.10</td>\n",
              "      <td>1,096.50</td>\n",
              "      <td>1,063.95</td>\n",
              "      <td>1,077.45</td>\n",
              "      <td>1,070.00</td>\n",
              "      <td>1,069.95</td>\n",
              "      <td>1,075.16</td>\n",
              "      <td>1,339.65</td>\n",
              "      <td>995.7</td>\n",
              "      <td>94,52,155</td>\n",
              "      <td>10,16,25,55,228.40</td>\n",
              "      <td>1,72,968</td>\n",
              "    </tr>\n",
              "    <tr>\n",
              "      <th>2</th>\n",
              "      <td>27-Dec-24</td>\n",
              "      <td>EQ</td>\n",
              "      <td>1,078.10</td>\n",
              "      <td>1,086.25</td>\n",
              "      <td>1,076.00</td>\n",
              "      <td>1,076.70</td>\n",
              "      <td>1,078.20</td>\n",
              "      <td>1,077.45</td>\n",
              "      <td>1,080.19</td>\n",
              "      <td>1,339.65</td>\n",
              "      <td>995.7</td>\n",
              "      <td>38,01,667</td>\n",
              "      <td>4,10,65,08,621.15</td>\n",
              "      <td>1,13,788</td>\n",
              "    </tr>\n",
              "    <tr>\n",
              "      <th>3</th>\n",
              "      <td>26-Dec-24</td>\n",
              "      <td>EQ</td>\n",
              "      <td>1,083.00</td>\n",
              "      <td>1,092.60</td>\n",
              "      <td>1,072.75</td>\n",
              "      <td>1,078.90</td>\n",
              "      <td>1,077.25</td>\n",
              "      <td>1,076.70</td>\n",
              "      <td>1,078.34</td>\n",
              "      <td>1,339.65</td>\n",
              "      <td>995.7</td>\n",
              "      <td>47,75,460</td>\n",
              "      <td>5,14,95,74,877.30</td>\n",
              "      <td>1,19,071</td>\n",
              "    </tr>\n",
              "    <tr>\n",
              "      <th>4</th>\n",
              "      <td>24-Dec-24</td>\n",
              "      <td>EQ</td>\n",
              "      <td>1,077.30</td>\n",
              "      <td>1,084.75</td>\n",
              "      <td>1,076.00</td>\n",
              "      <td>1,079.15</td>\n",
              "      <td>1,081.90</td>\n",
              "      <td>1,078.90</td>\n",
              "      <td>1,080.42</td>\n",
              "      <td>1,339.65</td>\n",
              "      <td>995.7</td>\n",
              "      <td>43,43,694</td>\n",
              "      <td>4,69,30,16,607.75</td>\n",
              "      <td>1,28,592</td>\n",
              "    </tr>\n",
              "  </tbody>\n",
              "</table>\n",
              "</div>\n",
              "    <div class=\"colab-df-buttons\">\n",
              "\n",
              "  <div class=\"colab-df-container\">\n",
              "    <button class=\"colab-df-convert\" onclick=\"convertToInteractive('df-829dd230-f204-4445-979d-4992791ef3fe')\"\n",
              "            title=\"Convert this dataframe to an interactive table.\"\n",
              "            style=\"display:none;\">\n",
              "\n",
              "  <svg xmlns=\"http://www.w3.org/2000/svg\" height=\"24px\" viewBox=\"0 -960 960 960\">\n",
              "    <path d=\"M120-120v-720h720v720H120Zm60-500h600v-160H180v160Zm220 220h160v-160H400v160Zm0 220h160v-160H400v160ZM180-400h160v-160H180v160Zm440 0h160v-160H620v160ZM180-180h160v-160H180v160Zm440 0h160v-160H620v160Z\"/>\n",
              "  </svg>\n",
              "    </button>\n",
              "\n",
              "  <style>\n",
              "    .colab-df-container {\n",
              "      display:flex;\n",
              "      gap: 12px;\n",
              "    }\n",
              "\n",
              "    .colab-df-convert {\n",
              "      background-color: #E8F0FE;\n",
              "      border: none;\n",
              "      border-radius: 50%;\n",
              "      cursor: pointer;\n",
              "      display: none;\n",
              "      fill: #1967D2;\n",
              "      height: 32px;\n",
              "      padding: 0 0 0 0;\n",
              "      width: 32px;\n",
              "    }\n",
              "\n",
              "    .colab-df-convert:hover {\n",
              "      background-color: #E2EBFA;\n",
              "      box-shadow: 0px 1px 2px rgba(60, 64, 67, 0.3), 0px 1px 3px 1px rgba(60, 64, 67, 0.15);\n",
              "      fill: #174EA6;\n",
              "    }\n",
              "\n",
              "    .colab-df-buttons div {\n",
              "      margin-bottom: 4px;\n",
              "    }\n",
              "\n",
              "    [theme=dark] .colab-df-convert {\n",
              "      background-color: #3B4455;\n",
              "      fill: #D2E3FC;\n",
              "    }\n",
              "\n",
              "    [theme=dark] .colab-df-convert:hover {\n",
              "      background-color: #434B5C;\n",
              "      box-shadow: 0px 1px 3px 1px rgba(0, 0, 0, 0.15);\n",
              "      filter: drop-shadow(0px 1px 2px rgba(0, 0, 0, 0.3));\n",
              "      fill: #FFFFFF;\n",
              "    }\n",
              "  </style>\n",
              "\n",
              "    <script>\n",
              "      const buttonEl =\n",
              "        document.querySelector('#df-829dd230-f204-4445-979d-4992791ef3fe button.colab-df-convert');\n",
              "      buttonEl.style.display =\n",
              "        google.colab.kernel.accessAllowed ? 'block' : 'none';\n",
              "\n",
              "      async function convertToInteractive(key) {\n",
              "        const element = document.querySelector('#df-829dd230-f204-4445-979d-4992791ef3fe');\n",
              "        const dataTable =\n",
              "          await google.colab.kernel.invokeFunction('convertToInteractive',\n",
              "                                                    [key], {});\n",
              "        if (!dataTable) return;\n",
              "\n",
              "        const docLinkHtml = 'Like what you see? Visit the ' +\n",
              "          '<a target=\"_blank\" href=https://colab.research.google.com/notebooks/data_table.ipynb>data table notebook</a>'\n",
              "          + ' to learn more about interactive tables.';\n",
              "        element.innerHTML = '';\n",
              "        dataTable['output_type'] = 'display_data';\n",
              "        await google.colab.output.renderOutput(dataTable, element);\n",
              "        const docLink = document.createElement('div');\n",
              "        docLink.innerHTML = docLinkHtml;\n",
              "        element.appendChild(docLink);\n",
              "      }\n",
              "    </script>\n",
              "  </div>\n",
              "\n",
              "\n",
              "<div id=\"df-e09c5694-e68b-48c5-b318-c881cba290c4\">\n",
              "  <button class=\"colab-df-quickchart\" onclick=\"quickchart('df-e09c5694-e68b-48c5-b318-c881cba290c4')\"\n",
              "            title=\"Suggest charts\"\n",
              "            style=\"display:none;\">\n",
              "\n",
              "<svg xmlns=\"http://www.w3.org/2000/svg\" height=\"24px\"viewBox=\"0 0 24 24\"\n",
              "     width=\"24px\">\n",
              "    <g>\n",
              "        <path d=\"M19 3H5c-1.1 0-2 .9-2 2v14c0 1.1.9 2 2 2h14c1.1 0 2-.9 2-2V5c0-1.1-.9-2-2-2zM9 17H7v-7h2v7zm4 0h-2V7h2v10zm4 0h-2v-4h2v4z\"/>\n",
              "    </g>\n",
              "</svg>\n",
              "  </button>\n",
              "\n",
              "<style>\n",
              "  .colab-df-quickchart {\n",
              "      --bg-color: #E8F0FE;\n",
              "      --fill-color: #1967D2;\n",
              "      --hover-bg-color: #E2EBFA;\n",
              "      --hover-fill-color: #174EA6;\n",
              "      --disabled-fill-color: #AAA;\n",
              "      --disabled-bg-color: #DDD;\n",
              "  }\n",
              "\n",
              "  [theme=dark] .colab-df-quickchart {\n",
              "      --bg-color: #3B4455;\n",
              "      --fill-color: #D2E3FC;\n",
              "      --hover-bg-color: #434B5C;\n",
              "      --hover-fill-color: #FFFFFF;\n",
              "      --disabled-bg-color: #3B4455;\n",
              "      --disabled-fill-color: #666;\n",
              "  }\n",
              "\n",
              "  .colab-df-quickchart {\n",
              "    background-color: var(--bg-color);\n",
              "    border: none;\n",
              "    border-radius: 50%;\n",
              "    cursor: pointer;\n",
              "    display: none;\n",
              "    fill: var(--fill-color);\n",
              "    height: 32px;\n",
              "    padding: 0;\n",
              "    width: 32px;\n",
              "  }\n",
              "\n",
              "  .colab-df-quickchart:hover {\n",
              "    background-color: var(--hover-bg-color);\n",
              "    box-shadow: 0 1px 2px rgba(60, 64, 67, 0.3), 0 1px 3px 1px rgba(60, 64, 67, 0.15);\n",
              "    fill: var(--button-hover-fill-color);\n",
              "  }\n",
              "\n",
              "  .colab-df-quickchart-complete:disabled,\n",
              "  .colab-df-quickchart-complete:disabled:hover {\n",
              "    background-color: var(--disabled-bg-color);\n",
              "    fill: var(--disabled-fill-color);\n",
              "    box-shadow: none;\n",
              "  }\n",
              "\n",
              "  .colab-df-spinner {\n",
              "    border: 2px solid var(--fill-color);\n",
              "    border-color: transparent;\n",
              "    border-bottom-color: var(--fill-color);\n",
              "    animation:\n",
              "      spin 1s steps(1) infinite;\n",
              "  }\n",
              "\n",
              "  @keyframes spin {\n",
              "    0% {\n",
              "      border-color: transparent;\n",
              "      border-bottom-color: var(--fill-color);\n",
              "      border-left-color: var(--fill-color);\n",
              "    }\n",
              "    20% {\n",
              "      border-color: transparent;\n",
              "      border-left-color: var(--fill-color);\n",
              "      border-top-color: var(--fill-color);\n",
              "    }\n",
              "    30% {\n",
              "      border-color: transparent;\n",
              "      border-left-color: var(--fill-color);\n",
              "      border-top-color: var(--fill-color);\n",
              "      border-right-color: var(--fill-color);\n",
              "    }\n",
              "    40% {\n",
              "      border-color: transparent;\n",
              "      border-right-color: var(--fill-color);\n",
              "      border-top-color: var(--fill-color);\n",
              "    }\n",
              "    60% {\n",
              "      border-color: transparent;\n",
              "      border-right-color: var(--fill-color);\n",
              "    }\n",
              "    80% {\n",
              "      border-color: transparent;\n",
              "      border-right-color: var(--fill-color);\n",
              "      border-bottom-color: var(--fill-color);\n",
              "    }\n",
              "    90% {\n",
              "      border-color: transparent;\n",
              "      border-bottom-color: var(--fill-color);\n",
              "    }\n",
              "  }\n",
              "</style>\n",
              "\n",
              "  <script>\n",
              "    async function quickchart(key) {\n",
              "      const quickchartButtonEl =\n",
              "        document.querySelector('#' + key + ' button');\n",
              "      quickchartButtonEl.disabled = true;  // To prevent multiple clicks.\n",
              "      quickchartButtonEl.classList.add('colab-df-spinner');\n",
              "      try {\n",
              "        const charts = await google.colab.kernel.invokeFunction(\n",
              "            'suggestCharts', [key], {});\n",
              "      } catch (error) {\n",
              "        console.error('Error during call to suggestCharts:', error);\n",
              "      }\n",
              "      quickchartButtonEl.classList.remove('colab-df-spinner');\n",
              "      quickchartButtonEl.classList.add('colab-df-quickchart-complete');\n",
              "    }\n",
              "    (() => {\n",
              "      let quickchartButtonEl =\n",
              "        document.querySelector('#df-e09c5694-e68b-48c5-b318-c881cba290c4 button');\n",
              "      quickchartButtonEl.style.display =\n",
              "        google.colab.kernel.accessAllowed ? 'block' : 'none';\n",
              "    })();\n",
              "  </script>\n",
              "</div>\n",
              "\n",
              "    </div>\n",
              "  </div>\n"
            ],
            "application/vnd.google.colaboratory.intrinsic+json": {
              "type": "dataframe",
              "variable_name": "df",
              "summary": "{\n  \"name\": \"df\",\n  \"rows\": 249,\n  \"fields\": [\n    {\n      \"column\": \"Date\",\n      \"properties\": {\n        \"dtype\": \"object\",\n        \"num_unique_values\": 249,\n        \"samples\": [\n          \"12-Jun-24\",\n          \"20-Dec-24\",\n          \"9-Aug-24\"\n        ],\n        \"semantic_type\": \"\",\n        \"description\": \"\"\n      }\n    },\n    {\n      \"column\": \"Series\",\n      \"properties\": {\n        \"dtype\": \"category\",\n        \"num_unique_values\": 1,\n        \"samples\": [\n          \"EQ\"\n        ],\n        \"semantic_type\": \"\",\n        \"description\": \"\"\n      }\n    },\n    {\n      \"column\": \"Open\",\n      \"properties\": {\n        \"dtype\": \"string\",\n        \"num_unique_values\": 220,\n        \"samples\": [\n          \"1,136.00\"\n        ],\n        \"semantic_type\": \"\",\n        \"description\": \"\"\n      }\n    },\n    {\n      \"column\": \"High\",\n      \"properties\": {\n        \"dtype\": \"string\",\n        \"num_unique_values\": 239,\n        \"samples\": [\n          \"1,159.60\"\n        ],\n        \"semantic_type\": \"\",\n        \"description\": \"\"\n      }\n    },\n    {\n      \"column\": \"Low\",\n      \"properties\": {\n        \"dtype\": \"string\",\n        \"num_unique_values\": 240,\n        \"samples\": [\n          \"1,142.00\"\n        ],\n        \"semantic_type\": \"\",\n        \"description\": \"\"\n      }\n    },\n    {\n      \"column\": \"Prev Close\",\n      \"properties\": {\n        \"dtype\": \"string\",\n        \"num_unique_values\": 242,\n        \"samples\": [\n          \"1,155.90\"\n        ],\n        \"semantic_type\": \"\",\n        \"description\": \"\"\n      }\n    },\n    {\n      \"column\": \"ltp\",\n      \"properties\": {\n        \"dtype\": \"string\",\n        \"num_unique_values\": 230,\n        \"samples\": [\n          \"1,093.25\"\n        ],\n        \"semantic_type\": \"\",\n        \"description\": \"\"\n      }\n    },\n    {\n      \"column\": \"Close\",\n      \"properties\": {\n        \"dtype\": \"string\",\n        \"num_unique_values\": 242,\n        \"samples\": [\n          \"1,144.80\"\n        ],\n        \"semantic_type\": \"\",\n        \"description\": \"\"\n      }\n    },\n    {\n      \"column\": \"VWAP\",\n      \"properties\": {\n        \"dtype\": \"string\",\n        \"num_unique_values\": 249,\n        \"samples\": [\n          \"1,193.99\"\n        ],\n        \"semantic_type\": \"\",\n        \"description\": \"\"\n      }\n    },\n    {\n      \"column\": \"52WH\",\n      \"properties\": {\n        \"dtype\": \"category\",\n        \"num_unique_values\": 11,\n        \"samples\": [\n          \"1,243.35\"\n        ],\n        \"semantic_type\": \"\",\n        \"description\": \"\"\n      }\n    },\n    {\n      \"column\": \"52WL\",\n      \"properties\": {\n        \"dtype\": \"number\",\n        \"std\": 63.70078121803987,\n        \"min\": 814.3,\n        \"max\": 995.7,\n        \"num_unique_values\": 16,\n        \"samples\": [\n          995.7\n        ],\n        \"semantic_type\": \"\",\n        \"description\": \"\"\n      }\n    },\n    {\n      \"column\": \"Volume\",\n      \"properties\": {\n        \"dtype\": \"string\",\n        \"num_unique_values\": 249,\n        \"samples\": [\n          \"71,99,718\"\n        ],\n        \"semantic_type\": \"\",\n        \"description\": \"\"\n      }\n    },\n    {\n      \"column\": \"Value\",\n      \"properties\": {\n        \"dtype\": \"string\",\n        \"num_unique_values\": 249,\n        \"samples\": [\n          \"8,59,64,01,078.25\"\n        ],\n        \"semantic_type\": \"\",\n        \"description\": \"\"\n      }\n    },\n    {\n      \"column\": \"No.of Traders\",\n      \"properties\": {\n        \"dtype\": \"string\",\n        \"num_unique_values\": 249,\n        \"samples\": [\n          \"2,06,029\"\n        ],\n        \"semantic_type\": \"\",\n        \"description\": \"\"\n      }\n    }\n  ]\n}"
            }
          },
          "metadata": {},
          "execution_count": 3
        }
      ],
      "source": [
        "#df = sns.load_dataset('tips')\n",
        "#df = pd.read_csv('AXISBANK.csv')\n",
        "df = pd.read_csv('/content/AXISBANK.csv') # Google Colab location\n",
        "df.head()"
      ]
    },
    {
      "cell_type": "code",
      "execution_count": 4,
      "id": "b7b177ed-8780-4c91-ac55-06f51c19adfd",
      "metadata": {
        "colab": {
          "base_uri": "https://localhost:8080/"
        },
        "id": "b7b177ed-8780-4c91-ac55-06f51c19adfd",
        "outputId": "50e5122e-a36a-44c4-e08d-4ba7cb8de12f"
      },
      "outputs": [
        {
          "output_type": "stream",
          "name": "stdout",
          "text": [
            "<class 'pandas.core.frame.DataFrame'>\n",
            "RangeIndex: 249 entries, 0 to 248\n",
            "Data columns (total 14 columns):\n",
            " #   Column         Non-Null Count  Dtype  \n",
            "---  ------         --------------  -----  \n",
            " 0   Date           249 non-null    object \n",
            " 1   Series         249 non-null    object \n",
            " 2   Open           249 non-null    object \n",
            " 3   High           249 non-null    object \n",
            " 4   Low            249 non-null    object \n",
            " 5   Prev Close     249 non-null    object \n",
            " 6   ltp            249 non-null    object \n",
            " 7   Close          249 non-null    object \n",
            " 8   VWAP           249 non-null    object \n",
            " 9   52WH           249 non-null    object \n",
            " 10  52WL           249 non-null    float64\n",
            " 11  Volume         249 non-null    object \n",
            " 12  Value          249 non-null    object \n",
            " 13  No.of Traders  249 non-null    object \n",
            "dtypes: float64(1), object(13)\n",
            "memory usage: 27.4+ KB\n"
          ]
        }
      ],
      "source": [
        "df.info()"
      ]
    },
    {
      "cell_type": "code",
      "execution_count": 5,
      "id": "055c7a87-9d24-4218-bab2-131a41145f53",
      "metadata": {
        "colab": {
          "base_uri": "https://localhost:8080/"
        },
        "id": "055c7a87-9d24-4218-bab2-131a41145f53",
        "outputId": "3c0a4962-3934-4047-d11f-5c1e6d64fae6"
      },
      "outputs": [
        {
          "output_type": "execute_result",
          "data": {
            "text/plain": [
              "1147.08"
            ]
          },
          "metadata": {},
          "execution_count": 5
        }
      ],
      "source": [
        "df['Close'] = df['Close'].apply(lambda x: int(x.replace(',', '').split('.')[0]))\n",
        "df['Open'] = df['Open'].apply(lambda x: int(x.replace(',', '').split('.')[0]))\n",
        "df['High'] = df['High'].apply(lambda x: int(x.replace(',', '').split('.')[0]))\n",
        "df['Low'] = df['Low'].apply(lambda x: int(x.replace(',', '').split('.')[0]))\n",
        "df['Volume'] = df['Volume'].apply(lambda x: int(x.replace(',', '').split('.')[0]))\n",
        "#df['Close']\n",
        "Axis_mean = float(\"{:.2f}\".format(np.mean(df['Close'])))\n",
        "Axis_mean"
      ]
    },
    {
      "cell_type": "code",
      "execution_count": 6,
      "id": "195c4141-002e-47f8-a548-5e035ae1ade0",
      "metadata": {
        "colab": {
          "base_uri": "https://localhost:8080/"
        },
        "id": "195c4141-002e-47f8-a548-5e035ae1ade0",
        "outputId": "3d099a9b-4732-4607-90e2-91b4ccee1a32"
      },
      "outputs": [
        {
          "output_type": "execute_result",
          "data": {
            "text/plain": [
              "1147.0"
            ]
          },
          "metadata": {},
          "execution_count": 6
        }
      ],
      "source": [
        "Axis_median = float(\"{:.2f}\".format(np.median(df['Close'])))\n",
        "Axis_median"
      ]
    },
    {
      "cell_type": "code",
      "execution_count": 7,
      "id": "a764b9aa-be55-41ce-91de-62f864ee4fcf",
      "metadata": {
        "colab": {
          "base_uri": "https://localhost:8080/"
        },
        "id": "a764b9aa-be55-41ce-91de-62f864ee4fcf",
        "outputId": "34d52645-3fee-45b3-98b9-4a589c66c5f7"
      },
      "outputs": [
        {
          "output_type": "execute_result",
          "data": {
            "text/plain": [
              "1170"
            ]
          },
          "metadata": {},
          "execution_count": 7
        }
      ],
      "source": [
        "Axis_mode = statistics.mode(df['Close'])\n",
        "Axis_mode"
      ]
    },
    {
      "cell_type": "code",
      "execution_count": 8,
      "id": "8e9ccaa7-61e8-4006-953d-6c345ab902c0",
      "metadata": {
        "colab": {
          "base_uri": "https://localhost:8080/",
          "height": 475
        },
        "id": "8e9ccaa7-61e8-4006-953d-6c345ab902c0",
        "outputId": "84781f30-6356-401d-a0c0-8ca1dcd31ffe"
      },
      "outputs": [
        {
          "output_type": "execute_result",
          "data": {
            "text/plain": [
              "<Axes: xlabel='Close'>"
            ]
          },
          "metadata": {},
          "execution_count": 8
        },
        {
          "output_type": "display_data",
          "data": {
            "text/plain": [
              "<Figure size 640x480 with 1 Axes>"
            ],
            "image/png": "[encoded data removed]"
          },
          "metadata": {}
        }
      ],
      "source": [
        "# use to set style of background of plot\n",
        "sns.set(style=\"whitegrid\")\n",
        "sns.boxplot(x=df['Close'])"
      ]
    },
    {
      "cell_type": "code",
      "execution_count": 9,
      "id": "18c9ee66-b3d4-42b8-a408-44723b30c563",
      "metadata": {
        "colab": {
          "base_uri": "https://localhost:8080/",
          "height": 478
        },
        "id": "18c9ee66-b3d4-42b8-a408-44723b30c563",
        "outputId": "81fac02d-55a7-4602-c98c-927cf378dba5"
      },
      "outputs": [
        {
          "output_type": "execute_result",
          "data": {
            "text/plain": [
              "<Axes: xlabel='Close', ylabel='Count'>"
            ]
          },
          "metadata": {},
          "execution_count": 9
        },
        {
          "output_type": "display_data",
          "data": {
            "text/plain": [
              "<Figure size 640x480 with 1 Axes>"
            ],
            "image/png": "[encoded data removed]"
          },
          "metadata": {}
        }
      ],
      "source": [
        "# Plot a simple histogram and kde\n",
        "sns.histplot(df['Close'], kde=True, color=\"m\")"
      ]
    },
    {
      "cell_type": "code",
      "execution_count": null,
      "id": "1ab1b26b-bd5c-4ca0-aa6c-1c3434a453f7",
      "metadata": {
        "id": "1ab1b26b-bd5c-4ca0-aa6c-1c3434a453f7"
      },
      "outputs": [],
      "source": []
    },
    {
      "cell_type": "code",
      "execution_count": null,
      "id": "0a43057b-5bf3-4f8b-8e87-79272179cb43",
      "metadata": {
        "id": "0a43057b-5bf3-4f8b-8e87-79272179cb43"
      },
      "outputs": [],
      "source": []
    }
  ],
  "metadata": {
    "kernelspec": {
      "display_name": "Python 3 (ipykernel)",
      "language": "python",
      "name": "python3"
    },
    "language_info": {
      "codemirror_mode": {
        "name": "ipython",
        "version": 3
      },
      "file_extension": ".py",
      "mimetype": "text/x-python",
      "name": "python",
      "nbconvert_exporter": "python",
      "pygments_lexer": "ipython3",
      "version": "3.12.8"
    },
    "colab": {
      "provenance": [],
      "include_colab_link": true
    }
  },
  "nbformat": 4,
  "nbformat_minor": 5
}