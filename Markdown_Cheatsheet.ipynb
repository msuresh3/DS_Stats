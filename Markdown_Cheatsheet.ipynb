{
 "cells": [
  {
   "cell_type": "code",
   "execution_count": 6,
   "id": "df703968-93b1-4d57-8529-9b1a23029e7b",
   "metadata": {},
   "outputs": [
    {
     "name": "stdout",
     "output_type": "stream",
     "text": [
      "Jupyter Markdown Cheat sheet\n"
     ]
    }
   ],
   "source": [
    "print (\"Jupyter Markdown Cheat sheet\")"
   ]
  },
  {
   "cell_type": "markdown",
   "id": "0349bc74-26bc-4cb2-b44e-9e34be564d80",
   "metadata": {},
   "source": [
    "\n",
    "# Titles appear like this\n",
    "## Major Headings appear like this\n",
    "### Subheadings appear like this\n",
    "#### 4th level Subheadings appear like this\n",
    "***\n",
    "Bold text: __string__ or **string**\n",
    "\n",
    "Italic text: _string_ or *string*\n",
    "***\n",
    "$ mathematical  symbols $\n",
    "\n",
    "`string`\n",
    "***\n",
    "> Text that will be indented when the Markdown is rendered.\n",
    "\n",
    "A hyphen (-) followed by one or two spaces, for example: \n",
    "- Bulleted item\n",
    "A space, a hyphen (-) and a space, for example:\n",
    " - Bulleted item\n",
    "An asterisk (*) followed by one or two spaces, for example:\n",
    " * Bulleted item\n",
    "\n",
    " - Main bullet point\n",
    "     - Sub bullet point\n",
    "\n",
    "1. Numbered item\n",
    "2. Numbered item\n",
    "\n",
    "1. Numbered item\n",
    "     1. Substep\n",
    "***\n",
    "## Blue boxes (alert-info)\n",
    "<div class=\"alert alert-block alert-info\">\n",
    "<b>Tip:</b> Use blue boxes (alert-info) for tips and notes. \n",
    "If it’s a note, you don’t have to include the word “Note”.\n",
    "</div>\n",
    "\n",
    "## Yellow boxes (alert-warning)\n",
    "<div class=\"alert alert-block alert-warning\">\n",
    "<b>Example:</b> Use yellow boxes for examples that are not \n",
    "inside code cells, or use for mathematical formulas if needed.\n",
    "</div>\n",
    "\n",
    "## Green boxes (alert-success)\n",
    "<div class=\"alert alert-block alert-success\">\n",
    "<b>Up to you:</b> Use green boxes sparingly, and only for some specific \n",
    "purpose that the other boxes can't cover. For example, if you have a lot \n",
    "of related content to link to, maybe you decide to use green boxes for \n",
    "related links from each section of a notebook.\n",
    "</div>\n",
    "\n",
    "## Red boxes (alert-danger)\n",
    "<div class=\"alert alert-block alert-danger\">\n",
    "<b>Just don't:</b> In general, avoid the red boxes. These should only be\n",
    "used for actions that might cause data loss or another major issue.\n",
    "</div>\n",
    "\n",
    "***\n",
    "\n",
    "[Section title](#section_ID)\n"
   ]
  },
  {
   "cell_type": "markdown",
   "id": "3f440fc0-e271-46b9-a17e-35d43164c7df",
   "metadata": {},
   "source": [
    "# Concept Heading\n",
    "\n",
    "## Explain concept in simple way\n",
    "\n",
    "### Simple Example to understand the concept\n",
    "\n",
    "## Explore related python libraries for this concept\n",
    "\n",
    "### Write sample python code with releated libraries\n",
    "\n",
    "### Review the output"
   ]
  }
 ],
 "metadata": {
  "kernelspec": {
   "display_name": "Python 3 (ipykernel)",
   "language": "python",
   "name": "python3"
  },
  "language_info": {
   "codemirror_mode": {
    "name": "ipython",
    "version": 3
   },
   "file_extension": ".py",
   "mimetype": "text/x-python",
   "name": "python",
   "nbconvert_exporter": "python",
   "pygments_lexer": "ipython3",
   "version": "3.12.8"
  }
 },
 "nbformat": 4,
 "nbformat_minor": 5
}
